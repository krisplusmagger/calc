{
 "cells": [
  {
   "cell_type": "code",
   "execution_count": 2,
   "metadata": {},
   "outputs": [],
   "source": [
    "keyBoard = [\n",
    "            [\"7\", \"8\", \"9\", \"/\", \"C\"],\n",
    "            [\"4\", \"5\", \"6\", \"*\", \"(\"],\n",
    "            [\"1\", \"2\", \"3\", \"-\", \")\"],\n",
    "            [\"0\", \"00\", \".\", \"+\", \"=\"],\n",
    "        ]#创建列表来存储键标签"
   ]
  },
  {
   "cell_type": "markdown",
   "metadata": {},
   "source": []
  },
  {
   "cell_type": "markdown",
   "metadata": {},
   "source": []
  },
  {
   "cell_type": "code",
   "execution_count": 7,
   "metadata": {},
   "outputs": [
    {
     "name": "stdout",
     "output_type": "stream",
     "text": [
      "row:  0\n",
      "keys: ['7', '8', '9', '/', 'C']\n",
      "col 0\n",
      "key 7\n",
      "col 1\n",
      "key 8\n",
      "col 2\n",
      "key 9\n",
      "col 3\n",
      "key /\n",
      "col 4\n",
      "key C\n",
      "row:  1\n",
      "keys: ['4', '5', '6', '*', '(']\n",
      "col 0\n",
      "key 4\n",
      "col 1\n",
      "key 5\n",
      "col 2\n",
      "key 6\n",
      "col 3\n",
      "key *\n",
      "col 4\n",
      "key (\n",
      "row:  2\n",
      "keys: ['1', '2', '3', '-', ')']\n",
      "col 0\n",
      "key 1\n",
      "col 1\n",
      "key 2\n",
      "col 2\n",
      "key 3\n",
      "col 3\n",
      "key -\n",
      "col 4\n",
      "key )\n",
      "row:  3\n",
      "keys: ['0', '00', '.', '+', '=']\n",
      "col 0\n",
      "key 0\n",
      "col 1\n",
      "key 00\n",
      "col 2\n",
      "key .\n",
      "col 3\n",
      "key +\n",
      "col 4\n",
      "key =\n"
     ]
    }
   ],
   "source": [
    "for row1, keys in enumerate(keyBoard):#外循环遍历行\n",
    "    print('row: ',row1)\n",
    "    print('keys:', keys)\n",
    "    for col, key in enumerate(keys):\n",
    "        print('col',col)\n",
    "        print('key', key)\n",
    "\n",
    "    "
   ]
  },
  {
   "cell_type": "code",
   "execution_count": null,
   "metadata": {},
   "outputs": [],
   "source": []
  }
 ],
 "metadata": {
  "kernelspec": {
   "display_name": "Python 3.9.13 64-bit",
   "language": "python",
   "name": "python3"
  },
  "language_info": {
   "codemirror_mode": {
    "name": "ipython",
    "version": 3
   },
   "file_extension": ".py",
   "mimetype": "text/x-python",
   "name": "python",
   "nbconvert_exporter": "python",
   "pygments_lexer": "ipython3",
   "version": "3.9.13"
  },
  "orig_nbformat": 4,
  "vscode": {
   "interpreter": {
    "hash": "aee8b7b246df8f9039afb4144a1f6fd8d2ca17a180786b69acc140d282b71a49"
   }
  }
 },
 "nbformat": 4,
 "nbformat_minor": 2
}
