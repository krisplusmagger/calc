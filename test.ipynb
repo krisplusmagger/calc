{
 "cells": [
  {
   "cell_type": "code",
   "execution_count": 2,
   "metadata": {},
   "outputs": [],
   "source": [
    "keyBoard = [\n",
    "            [\"7\", \"8\", \"9\", \"/\", \"C\"],\n",
    "            [\"4\", \"5\", \"6\", \"*\", \"(\"],\n",
    "            [\"1\", \"2\", \"3\", \"-\", \")\"],\n",
    "            [\"0\", \"00\", \".\", \"+\", \"=\"],\n",
    "        ]#创建列表来存储键标签"
   ]
  },
  {
   "attachments": {},
   "cell_type": "markdown",
   "metadata": {},
   "source": []
  },
  {
   "attachments": {},
   "cell_type": "markdown",
   "metadata": {},
   "source": []
  },
  {
   "cell_type": "code",
   "execution_count": 7,
   "metadata": {},
   "outputs": [
    {
     "name": "stdout",
     "output_type": "stream",
     "text": [
      "row:  0\n",
      "keys: ['7', '8', '9', '/', 'C']\n",
      "col 0\n",
      "key 7\n",
      "col 1\n",
      "key 8\n",
      "col 2\n",
      "key 9\n",
      "col 3\n",
      "key /\n",
      "col 4\n",
      "key C\n",
      "row:  1\n",
      "keys: ['4', '5', '6', '*', '(']\n",
      "col 0\n",
      "key 4\n",
      "col 1\n",
      "key 5\n",
      "col 2\n",
      "key 6\n",
      "col 3\n",
      "key *\n",
      "col 4\n",
      "key (\n",
      "row:  2\n",
      "keys: ['1', '2', '3', '-', ')']\n",
      "col 0\n",
      "key 1\n",
      "col 1\n",
      "key 2\n",
      "col 2\n",
      "key 3\n",
      "col 3\n",
      "key -\n",
      "col 4\n",
      "key )\n",
      "row:  3\n",
      "keys: ['0', '00', '.', '+', '=']\n",
      "col 0\n",
      "key 0\n",
      "col 1\n",
      "key 00\n",
      "col 2\n",
      "key .\n",
      "col 3\n",
      "key +\n",
      "col 4\n",
      "key =\n"
     ]
    }
   ],
   "source": [
    "for row1, keys in enumerate(keyBoard):#外循环遍历行\n",
    "    print('row: ',row1)\n",
    "    print('keys:', keys)\n",
    "    for col, key in enumerate(keys):\n",
    "        print('col',col)\n",
    "        print('key', key)\n",
    "\n",
    "    "
   ]
  },
  {
   "cell_type": "code",
   "execution_count": 7,
   "metadata": {},
   "outputs": [],
   "source": [
    "np.random.seed(123)  # 设置种子为123"
   ]
  },
  {
   "cell_type": "code",
   "execution_count": 20,
   "metadata": {},
   "outputs": [
    {
     "name": "stdout",
     "output_type": "stream",
     "text": [
      "9\n",
      "8\n",
      "8\n",
      "4\n",
      "10\n",
      "15\n",
      "10\n",
      "13\n",
      "13\n",
      "8\n",
      "14\n",
      "6\n",
      "1\n",
      "14\n",
      "6\n"
     ]
    }
   ],
   "source": [
    "import numpy as np \n",
    "random_number = np.random.randint(low=0, high=16)\n",
    "for i in range(15):\n",
    "    random_number = np.random.randint(low=0, high=16)\n",
    "    print(random_number)"
   ]
  },
  {
   "cell_type": "code",
   "execution_count": 27,
   "metadata": {},
   "outputs": [],
   "source": [
    "INPUT_TABLE = [\"1\", \"2\", \"3\", \"A\", \"4\", \"5\", \"6\", \"B\", \"7\", \"8\", \"9\", \"C\", \"*\", \"0\", \"#\", \"D\"]"
   ]
  },
  {
   "cell_type": "code",
   "execution_count": 33,
   "metadata": {},
   "outputs": [
    {
     "name": "stdout",
     "output_type": "stream",
     "text": [
      "0\n",
      "1\n",
      "2\n",
      "3\n",
      "4\n",
      "5\n",
      "6\n",
      "7\n",
      "8\n",
      "9\n",
      "10\n",
      "11\n",
      "12\n",
      "13\n",
      "14\n",
      "15\n"
     ]
    }
   ],
   "source": [
    "for i in range(len(INPUT_TABLE)):\n",
    "    print(i)"
   ]
  },
  {
   "cell_type": "code",
   "execution_count": 30,
   "metadata": {},
   "outputs": [],
   "source": [
    "np.random.seed(123)  # 设置种子为123\n",
    "random_number = np.random.randint(low=0, high=16)  # 生成0到15之间的随机整数\n",
    "input_list = []\n",
    "##生成128位输入序列\n",
    "for i in range(128):\n",
    "    random_number = np.random.randint(low=0, high=16)\n",
    "    input_list.append(INPUT_TABLE[random_number])\n"
   ]
  },
  {
   "cell_type": "code",
   "execution_count": 31,
   "metadata": {},
   "outputs": [
    {
     "data": {
      "text/plain": [
       "['0',\n",
       " '#',\n",
       " '3',\n",
       " '*',\n",
       " '3',\n",
       " '6',\n",
       " '2',\n",
       " 'A',\n",
       " '9',\n",
       " 'C',\n",
       " '8',\n",
       " '6',\n",
       " '2',\n",
       " '1',\n",
       " '2',\n",
       " '#',\n",
       " 'D',\n",
       " '8',\n",
       " '1',\n",
       " '#',\n",
       " '1',\n",
       " 'D',\n",
       " '8',\n",
       " 'A',\n",
       " '#',\n",
       " '0',\n",
       " '4',\n",
       " '1',\n",
       " '1',\n",
       " '4',\n",
       " '2',\n",
       " 'B',\n",
       " 'A',\n",
       " '3',\n",
       " '4',\n",
       " 'B',\n",
       " '3',\n",
       " '4',\n",
       " 'D',\n",
       " '7',\n",
       " '0',\n",
       " '1',\n",
       " 'B',\n",
       " '8',\n",
       " 'A',\n",
       " '*',\n",
       " '*',\n",
       " '4',\n",
       " '6',\n",
       " '2',\n",
       " '5',\n",
       " '6',\n",
       " '#',\n",
       " 'C',\n",
       " '3',\n",
       " '2',\n",
       " '*',\n",
       " '7',\n",
       " 'A',\n",
       " '9',\n",
       " '5',\n",
       " '1',\n",
       " 'C',\n",
       " '3',\n",
       " '9',\n",
       " '9',\n",
       " '6',\n",
       " '0',\n",
       " '3',\n",
       " '4',\n",
       " 'D',\n",
       " 'C',\n",
       " 'C',\n",
       " '0',\n",
       " '*',\n",
       " '#',\n",
       " '4',\n",
       " '6',\n",
       " '0',\n",
       " 'A',\n",
       " '9',\n",
       " '1',\n",
       " '6',\n",
       " '#',\n",
       " 'D',\n",
       " '4',\n",
       " 'B',\n",
       " 'C',\n",
       " '6',\n",
       " 'B',\n",
       " '2',\n",
       " 'C',\n",
       " '9',\n",
       " '5',\n",
       " 'B',\n",
       " '8',\n",
       " '3',\n",
       " '4',\n",
       " '7',\n",
       " '2',\n",
       " '*',\n",
       " '3',\n",
       " '2',\n",
       " '2',\n",
       " 'A',\n",
       " '*',\n",
       " '5',\n",
       " '8',\n",
       " '1',\n",
       " '7',\n",
       " 'C',\n",
       " '2',\n",
       " '6',\n",
       " 'A',\n",
       " 'A',\n",
       " 'C',\n",
       " '5',\n",
       " '8',\n",
       " 'B',\n",
       " '8',\n",
       " '3',\n",
       " 'A',\n",
       " 'C',\n",
       " 'A',\n",
       " 'A',\n",
       " '7',\n",
       " '#',\n",
       " '6']"
      ]
     },
     "execution_count": 31,
     "metadata": {},
     "output_type": "execute_result"
    }
   ],
   "source": [
    "input_list "
   ]
  }
 ],
 "metadata": {
  "kernelspec": {
   "display_name": "Python 3.9.13 64-bit",
   "language": "python",
   "name": "python3"
  },
  "language_info": {
   "codemirror_mode": {
    "name": "ipython",
    "version": 3
   },
   "file_extension": ".py",
   "mimetype": "text/x-python",
   "name": "python",
   "nbconvert_exporter": "python",
   "pygments_lexer": "ipython3",
   "version": "3.8.16"
  },
  "orig_nbformat": 4,
  "vscode": {
   "interpreter": {
    "hash": "aee8b7b246df8f9039afb4144a1f6fd8d2ca17a180786b69acc140d282b71a49"
   }
  }
 },
 "nbformat": 4,
 "nbformat_minor": 2
}
